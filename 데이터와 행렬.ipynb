{
 "cells": [
  {
   "cell_type": "code",
   "execution_count": 1,
   "id": "edc2b8c3",
   "metadata": {},
   "outputs": [],
   "source": [
    "from sklearn.datasets import load_iris"
   ]
  },
  {
   "cell_type": "code",
   "execution_count": 2,
   "id": "ce480441",
   "metadata": {},
   "outputs": [],
   "source": [
    "iris = load_iris()"
   ]
  },
  {
   "cell_type": "code",
   "execution_count": 3,
   "id": "8b139d84",
   "metadata": {},
   "outputs": [
    {
     "data": {
      "text/plain": [
       "array([5.1, 3.5, 1.4, 0.2])"
      ]
     },
     "execution_count": 3,
     "metadata": {},
     "output_type": "execute_result"
    }
   ],
   "source": [
    "iris.data[0,:]"
   ]
  },
  {
   "cell_type": "code",
   "execution_count": 4,
   "id": "e1b0d386",
   "metadata": {},
   "outputs": [
    {
     "data": {
      "text/plain": [
       "array([[5, 1],\n",
       "       [3, 5],\n",
       "       [1, 4],\n",
       "       [0, 2]])"
      ]
     },
     "execution_count": 4,
     "metadata": {},
     "output_type": "execute_result"
    }
   ],
   "source": [
    "x1 =np.array([[5,1], [3,5],[1,4],[0,2]])#열벡터를 나타낸 것(벡터의 기본은 열벡터이다)\n",
    "x1"
   ]
  },
  {
   "cell_type": "code",
   "execution_count": 5,
   "id": "10604255",
   "metadata": {},
   "outputs": [],
   "source": [
    "x2 = np.array([[4.9],[3.0],[1.4],[0.2]])"
   ]
  },
  {
   "cell_type": "code",
   "execution_count": 6,
   "id": "2202a40c",
   "metadata": {},
   "outputs": [
    {
     "data": {
      "text/plain": [
       "array([[4.9],\n",
       "       [3. ],\n",
       "       [1.4],\n",
       "       [0.2]])"
      ]
     },
     "execution_count": 6,
     "metadata": {},
     "output_type": "execute_result"
    }
   ],
   "source": [
    "x2"
   ]
  },
  {
   "cell_type": "code",
   "execution_count": 7,
   "id": "ac4a9a6a",
   "metadata": {},
   "outputs": [
    {
     "data": {
      "text/plain": [
       "array([[5.1, 3.5, 1.4, 0.2],\n",
       "       [4.9, 3. , 1.4, 0.2]])"
      ]
     },
     "execution_count": 7,
     "metadata": {},
     "output_type": "execute_result"
    }
   ],
   "source": [
    "np.array([[5.1, 3.5, 1.4, 0.2],[4.9, 3.0,1.4, 0.2]])"
   ]
  },
  {
   "cell_type": "markdown",
   "id": "52d706ed",
   "metadata": {},
   "source": [
    "#특징벡터  \n",
    "예측문제에서 사용되는 경우  --> 입력값으로 사용된다.  \n",
    "featured vector"
   ]
  },
  {
   "cell_type": "code",
   "execution_count": 8,
   "id": "a5950ba2",
   "metadata": {},
   "outputs": [],
   "source": [
    "from sklearn.datasets import load_digits"
   ]
  },
  {
   "cell_type": "code",
   "execution_count": 9,
   "id": "f4cc107e",
   "metadata": {},
   "outputs": [],
   "source": [
    "digits = load_digits()"
   ]
  },
  {
   "cell_type": "code",
   "execution_count": 10,
   "id": "f2aab3b3",
   "metadata": {},
   "outputs": [],
   "source": [
    "samples = [0, 10, 20, 30, 1, 11, 21, 31]"
   ]
  },
  {
   "cell_type": "code",
   "execution_count": 11,
   "id": "759350bf",
   "metadata": {},
   "outputs": [],
   "source": [
    "d =[]"
   ]
  },
  {
   "cell_type": "code",
   "execution_count": 12,
   "id": "7c4bfead",
   "metadata": {},
   "outputs": [],
   "source": [
    "for i in range(8):\n",
    "    d.append(digits.images[samples[i]])"
   ]
  },
  {
   "cell_type": "code",
   "execution_count": 13,
   "id": "cc20510b",
   "metadata": {},
   "outputs": [],
   "source": [
    "from matplotlib import pyplot as plt"
   ]
  },
  {
   "cell_type": "code",
   "execution_count": 14,
   "id": "4c7fca4a",
   "metadata": {},
   "outputs": [
    {
     "name": "stderr",
     "output_type": "stream",
     "text": [
      "/opt/homebrew/lib/python3.9/site-packages/matplotlib/backends/backend_agg.py:240: RuntimeWarning: Glyph 49707 missing from current font.\n",
      "  font.set_text(s, 0.0, flags=flags)\n",
      "/opt/homebrew/lib/python3.9/site-packages/matplotlib/backends/backend_agg.py:240: RuntimeWarning: Glyph 51088 missing from current font.\n",
      "  font.set_text(s, 0.0, flags=flags)\n",
      "/opt/homebrew/lib/python3.9/site-packages/matplotlib/backends/backend_agg.py:240: RuntimeWarning: Glyph 44284 missing from current font.\n",
      "  font.set_text(s, 0.0, flags=flags)\n",
      "/opt/homebrew/lib/python3.9/site-packages/matplotlib/backends/backend_agg.py:240: RuntimeWarning: Glyph 51060 missing from current font.\n",
      "  font.set_text(s, 0.0, flags=flags)\n",
      "/opt/homebrew/lib/python3.9/site-packages/matplotlib/backends/backend_agg.py:240: RuntimeWarning: Glyph 48120 missing from current font.\n",
      "  font.set_text(s, 0.0, flags=flags)\n",
      "/opt/homebrew/lib/python3.9/site-packages/matplotlib/backends/backend_agg.py:240: RuntimeWarning: Glyph 51648 missing from current font.\n",
      "  font.set_text(s, 0.0, flags=flags)\n",
      "/opt/homebrew/lib/python3.9/site-packages/matplotlib/backends/backend_agg.py:203: RuntimeWarning: Glyph 49707 missing from current font.\n",
      "  font.set_text(s, 0, flags=flags)\n",
      "/opt/homebrew/lib/python3.9/site-packages/matplotlib/backends/backend_agg.py:203: RuntimeWarning: Glyph 51088 missing from current font.\n",
      "  font.set_text(s, 0, flags=flags)\n",
      "/opt/homebrew/lib/python3.9/site-packages/matplotlib/backends/backend_agg.py:203: RuntimeWarning: Glyph 44284 missing from current font.\n",
      "  font.set_text(s, 0, flags=flags)\n",
      "/opt/homebrew/lib/python3.9/site-packages/matplotlib/backends/backend_agg.py:203: RuntimeWarning: Glyph 51060 missing from current font.\n",
      "  font.set_text(s, 0, flags=flags)\n",
      "/opt/homebrew/lib/python3.9/site-packages/matplotlib/backends/backend_agg.py:203: RuntimeWarning: Glyph 48120 missing from current font.\n",
      "  font.set_text(s, 0, flags=flags)\n",
      "/opt/homebrew/lib/python3.9/site-packages/matplotlib/backends/backend_agg.py:203: RuntimeWarning: Glyph 51648 missing from current font.\n",
      "  font.set_text(s, 0, flags=flags)\n"
     ]
    },
    {
     "data": {
      "image/png": "[encoded data removed]",
      "text/plain": [
       "<Figure size 576x144 with 8 Axes>"
      ]
     },
     "metadata": {},
     "output_type": "display_data"
    }
   ],
   "source": [
    "plt.figure(figsize=(8,2))\n",
    "for i in range(8):\n",
    "    plt.subplot(1, 8, i+1)\n",
    "    plt.imshow(d[i], interpolation='nearest', cmap=plt.cm.bone_r)\n",
    "    plt.grid(False); plt.xticks([]);plt.yticks([])\n",
    "    plt.title(\"image{}\".format(i+1))\n",
    "plt.suptitle('숫자 0과 이미지')\n",
    "plt.tight_layout()\n",
    "plt.show()"
   ]
  },
  {
   "cell_type": "code",
   "execution_count": 15,
   "id": "16809ec6",
   "metadata": {},
   "outputs": [
    {
     "name": "stderr",
     "output_type": "stream",
     "text": [
      "/opt/homebrew/lib/python3.9/site-packages/matplotlib/backends/backend_agg.py:240: RuntimeWarning: Glyph 48289 missing from current font.\n",
      "  font.set_text(s, 0.0, flags=flags)\n",
      "/opt/homebrew/lib/python3.9/site-packages/matplotlib/backends/backend_agg.py:240: RuntimeWarning: Glyph 53552 missing from current font.\n",
      "  font.set_text(s, 0.0, flags=flags)\n",
      "/opt/homebrew/lib/python3.9/site-packages/matplotlib/backends/backend_agg.py:240: RuntimeWarning: Glyph 54868 missing from current font.\n",
      "  font.set_text(s, 0.0, flags=flags)\n",
      "/opt/homebrew/lib/python3.9/site-packages/matplotlib/backends/backend_agg.py:240: RuntimeWarning: Glyph 46108 missing from current font.\n",
      "  font.set_text(s, 0.0, flags=flags)\n",
      "/opt/homebrew/lib/python3.9/site-packages/matplotlib/backends/backend_agg.py:203: RuntimeWarning: Glyph 48289 missing from current font.\n",
      "  font.set_text(s, 0, flags=flags)\n",
      "/opt/homebrew/lib/python3.9/site-packages/matplotlib/backends/backend_agg.py:203: RuntimeWarning: Glyph 53552 missing from current font.\n",
      "  font.set_text(s, 0, flags=flags)\n",
      "/opt/homebrew/lib/python3.9/site-packages/matplotlib/backends/backend_agg.py:203: RuntimeWarning: Glyph 54868 missing from current font.\n",
      "  font.set_text(s, 0, flags=flags)\n",
      "/opt/homebrew/lib/python3.9/site-packages/matplotlib/backends/backend_agg.py:203: RuntimeWarning: Glyph 46108 missing from current font.\n",
      "  font.set_text(s, 0, flags=flags)\n"
     ]
    },
    {
     "data": {
      "image/png": "[encoded data removed]",
      "text/plain": [
       "<Figure size 576x216 with 8 Axes>"
      ]
     },
     "metadata": {},
     "output_type": "display_data"
    }
   ],
   "source": [
    "v =[]\n",
    "for i in range(8):\n",
    "    v.append(d[i].reshape(64,1)) #벡터화\n",
    "plt.figure(figsize=(8,3))\n",
    "for i in range(8):\n",
    "    plt.subplot(1, 8, i+1)\n",
    "    plt.imshow(v[i], aspect=0.4, interpolation='nearest', cmap =plt.cm.bone_r)\n",
    "    plt.grid(False); plt.xticks([]);plt.yticks([])\n",
    "    plt.title('벡터 {}'.format(i+1))\n",
    "plt.suptitle('벡터화된 이미지', y =1.05)\n",
    "plt.tight_layout(w_pad=7)\n",
    "plt.show()"
   ]
  },
  {
   "cell_type": "code",
   "execution_count": 16,
   "id": "5ce0de30",
   "metadata": {},
   "outputs": [],
   "source": [
    "import matplotlib.font_manager as fm"
   ]
  },
  {
   "cell_type": "code",
   "execution_count": 17,
   "id": "165c2a22",
   "metadata": {},
   "outputs": [],
   "source": [
    "font_list = fm.findSystemFonts(fontpaths = None, fontext = 'ttf')\n"
   ]
  },
  {
   "cell_type": "code",
   "execution_count": 18,
   "id": "77b12e6e",
   "metadata": {},
   "outputs": [
    {
     "data": {
      "text/plain": [
       "['/System/Library/Fonts/Supplemental/Herculanum.ttf',\n",
       " '/System/Library/Fonts/Supplemental/NotoSansTagalog-Regular.ttf',\n",
       " '/System/Library/Fonts/Supplemental/NotoSansKhudawadi-Regular.ttf',\n",
       " '/System/Library/Fonts/Supplemental/Kailasa.ttc',\n",
       " '/System/Library/Fonts/Supplemental/AppleMyungjo.ttf',\n",
       " '/System/Library/Fonts/Supplemental/Seravek.ttc',\n",
       " '/System/Library/Fonts/Supplemental/Courier New Bold.ttf',\n",
       " '/System/Library/Fonts/Supplemental/NotoSansNKo-Regular.ttf',\n",
       " '/System/Library/Fonts/Supplemental/Trebuchet MS Bold Italic.ttf',\n",
       " '/System/Library/Fonts/SFCompactItalic.ttf',\n",
       " '/System/Library/Fonts/Apple Braille Pinpoint 8 Dot.ttf',\n",
       " '/System/Library/Fonts/Supplemental/NotoSansCoptic-Regular.ttf',\n",
       " '/System/Library/Fonts/NewYorkItalic.ttf',\n",
       " '/System/Library/Fonts/Supplemental/NotoSansGothic-Regular.ttf',\n",
       " '/System/Library/Fonts/Supplemental/STIXIntUpSmBol.otf',\n",
       " '/System/Library/Fonts/Supplemental/Webdings.ttf',\n",
       " '/System/Library/Fonts/ArialHB.ttc',\n",
       " '/System/Library/Fonts/Supplemental/Muna.ttc',\n",
       " '/System/Library/Fonts/Supplemental/STIXIntSmBol.otf',\n",
       " '/System/Library/Fonts/Supplemental/NotoSansNewTaiLue-Regular.ttf',\n",
       " '/System/Library/Fonts/Supplemental/Lao MN.ttc',\n",
       " '/System/Library/Fonts/Supplemental/NotoSansHanunoo-Regular.ttf',\n",
       " '/System/Library/Fonts/AppleSDGothicNeo.ttc',\n",
       " '/System/Library/Fonts/Supplemental/Beirut.ttc',\n",
       " '/System/Library/Fonts/Supplemental/NotoSansHanifiRohingya-Regular.ttf',\n",
       " '/System/Library/Fonts/Supplemental/PartyLET-plain.ttf',\n",
       " '/System/Library/Fonts/Supplemental/Arial Bold Italic.ttf',\n",
       " '/System/Library/Fonts/Supplemental/AlBayan.ttc',\n",
       " '/System/Library/Fonts/Supplemental/ITFDevanagari.ttc',\n",
       " '/System/Library/Fonts/Supplemental/STIXSizTwoSymBol.otf',\n",
       " '/System/Library/Fonts/Supplemental/NotoSerifAhom-Regular.ttf',\n",
       " '/System/Library/Fonts/Supplemental/GujaratiMT.ttc',\n",
       " '/System/Library/Fonts/Supplemental/Bodoni 72 OS.ttc',\n",
       " '/System/Library/Fonts/Supplemental/Mshtakan.ttc',\n",
       " '/System/Library/Fonts/Supplemental/Sinhala MN.ttc',\n",
       " '/System/Library/Fonts/Supplemental/Georgia Bold Italic.ttf',\n",
       " '/System/Library/Fonts/Supplemental/Arial Narrow.ttf',\n",
       " '/System/Library/Fonts/ヒラギノ角ゴシック W2.ttc',\n",
       " '/System/Library/Fonts/Supplemental/NotoSansModi-Regular.ttf',\n",
       " '/System/Library/Fonts/Supplemental/Impact.ttf',\n",
       " '/System/Library/Fonts/Supplemental/NotoSansLycian-Regular.ttf',\n",
       " '/System/Library/Fonts/Supplemental/NotoSansSoraSompeng-Regular.ttf',\n",
       " '/System/Library/Fonts/Supplemental/Al Tarikh.ttc',\n",
       " '/System/Library/Fonts/Supplemental/STIXVar.otf',\n",
       " '/System/Library/Fonts/Supplemental/NotoSansBrahmi-Regular.ttf',\n",
       " '/System/Library/Fonts/ヒラギノ角ゴシック W8.ttc',\n",
       " '/System/Library/Fonts/Supplemental/Chalkboard.ttc',\n",
       " '/System/Library/Fonts/Supplemental/NotoSansTaiViet-Regular.ttf',\n",
       " '/System/Library/Fonts/SFNS.ttf',\n",
       " '/System/Library/Fonts/Supplemental/NotoSansCuneiform-Regular.ttf',\n",
       " '/System/Library/Fonts/Supplemental/Courier New Italic.ttf',\n",
       " '/System/Library/Fonts/Supplemental/NotoSansJavanese-Regular.otf',\n",
       " '/System/Library/Fonts/Supplemental/GillSans.ttc',\n",
       " '/System/Library/Fonts/Supplemental/NotoSansCaucasianAlbanian-Regular.ttf',\n",
       " '/System/Library/Fonts/Supplemental/NotoSansSundanese-Regular.ttf',\n",
       " '/System/Library/Fonts/Supplemental/Copperplate.ttc',\n",
       " '/System/Library/Fonts/Supplemental/NotoSansCypriot-Regular.ttf',\n",
       " '/System/Library/Fonts/SFNSMono.ttf',\n",
       " '/System/Library/Fonts/Helvetica.ttc',\n",
       " '/System/Library/Fonts/Supplemental/Georgia.ttf',\n",
       " '/System/Library/Fonts/Supplemental/Comic Sans MS.ttf',\n",
       " '/System/Library/Fonts/Supplemental/Bodoni Ornaments.ttf',\n",
       " '/System/Library/Fonts/Supplemental/Arial Rounded Bold.ttf',\n",
       " '/System/Library/Fonts/Avenir Next Condensed.ttc',\n",
       " '/System/Library/Fonts/Supplemental/NotoSansNabataean-Regular.ttf',\n",
       " '/System/Library/Fonts/Supplemental/Khmer MN.ttc',\n",
       " '/System/Library/Fonts/Supplemental/Andale Mono.ttf',\n",
       " '/System/Library/Fonts/Supplemental/Wingdings 2.ttf',\n",
       " '/System/Library/Fonts/ArabicUIText.ttc',\n",
       " '/System/Library/Fonts/Supplemental/NotoSansOldTurkic-Regular.ttf',\n",
       " '/System/Library/Fonts/Supplemental/NISC18030.ttf',\n",
       " '/System/Library/Fonts/Supplemental/Bodoni 72.ttc',\n",
       " '/System/Library/Fonts/Supplemental/Diwan Kufi.ttc',\n",
       " '/System/Library/Fonts/Supplemental/Kannada Sangam MN.ttc',\n",
       " '/System/Library/Fonts/Supplemental/Diwan Thuluth.ttf',\n",
       " '/System/Library/Fonts/Supplemental/NotoSansEgyptianHieroglyphs-Regular.ttf',\n",
       " '/System/Library/Fonts/Supplemental/AmericanTypewriter.ttc',\n",
       " '/System/Library/Fonts/Supplemental/Times New Roman Bold.ttf',\n",
       " '/System/Library/Fonts/MuktaMahee.ttc',\n",
       " '/System/Library/Fonts/Supplemental/Farisi.ttf',\n",
       " '/System/Library/Fonts/Supplemental/Bangla Sangam MN.ttc',\n",
       " '/System/Library/Fonts/Supplemental/STIXIntUpDBol.otf',\n",
       " '/System/Library/Fonts/Supplemental/AppleGothic.ttf',\n",
       " '/System/Library/Fonts/Supplemental/DevanagariMT.ttc',\n",
       " '/System/Library/Fonts/Supplemental/NotoSansTaiLe-Regular.ttf',\n",
       " '/System/Library/Fonts/NotoSansArmenian.ttc',\n",
       " '/System/Library/Fonts/Supplemental/STIXSizOneSymBol.otf',\n",
       " '/System/Library/Fonts/Supplemental/NotoSerifBalinese-Regular.ttf',\n",
       " '/System/Library/Fonts/Supplemental/Sinhala Sangam MN.ttc',\n",
       " '/System/Library/Fonts/Supplemental/Mishafi.ttf',\n",
       " '/System/Library/Fonts/SFCompact.ttf',\n",
       " '/System/Library/Fonts/Supplemental/SukhumvitSet.ttc',\n",
       " '/System/Library/Fonts/Supplemental/NotoSansGlagolitic-Regular.ttf',\n",
       " '/System/Library/Fonts/Keyboard.ttf',\n",
       " '/System/Library/Fonts/Supplemental/Shree714.ttc',\n",
       " '/System/Library/Fonts/Thonburi.ttc',\n",
       " '/System/Library/Fonts/Supplemental/NotoSansTaiTham-Regular.ttf',\n",
       " '/System/Library/Fonts/Apple Braille.ttf',\n",
       " '/System/Library/Fonts/Supplemental/STIXNonUni.otf',\n",
       " '/System/Library/Fonts/Supplemental/NotoSansKharoshthi-Regular.ttf',\n",
       " '/System/Library/Fonts/Supplemental/Waseem.ttc',\n",
       " '/System/Library/Fonts/Supplemental/Telugu MN.ttc',\n",
       " '/System/Library/Fonts/Supplemental/Academy Engraved LET Fonts.ttf',\n",
       " '/System/Library/Fonts/Supplemental/NotoSansUgaritic-Regular.ttf',\n",
       " '/System/Library/Fonts/Supplemental/Kokonor.ttf',\n",
       " '/System/Library/Fonts/Supplemental/DIN Condensed Bold.ttf',\n",
       " '/System/Library/Fonts/Supplemental/Oriya MN.ttc',\n",
       " '/System/Library/Fonts/Supplemental/NotoSansPsalterPahlavi-Regular.ttf',\n",
       " '/System/Library/Fonts/Supplemental/STIXSizTwoSymReg.otf',\n",
       " '/System/Library/Fonts/Supplemental/STIXIntUpSmReg.otf',\n",
       " '/System/Library/Fonts/Supplemental/Tamil MN.ttc',\n",
       " '/System/Library/Fonts/ArabicUIDisplay.ttc',\n",
       " '/System/Library/Fonts/Supplemental/Cochin.ttc',\n",
       " '/System/Library/Fonts/Supplemental/NotoSansLydian-Regular.ttf',\n",
       " '/System/Library/Fonts/Supplemental/Khmer Sangam MN.ttf',\n",
       " '/System/Library/Fonts/Menlo.ttc',\n",
       " '/System/Library/Fonts/NotoSerifMyanmar.ttc',\n",
       " '/System/Library/Fonts/GeezaPro.ttc',\n",
       " '/Library/Fonts/Arial Unicode.ttf',\n",
       " '/System/Library/Fonts/Supplemental/STIXIntUpDReg.otf',\n",
       " '/System/Library/Fonts/Supplemental/PTSans.ttc',\n",
       " '/System/Library/Fonts/SFNSItalic.ttf',\n",
       " '/System/Library/Fonts/Supplemental/NotoSansRunic-Regular.ttf',\n",
       " '/System/Library/Fonts/Supplemental/Trebuchet MS Bold.ttf',\n",
       " '/System/Library/Fonts/Supplemental/Zapfino.ttf',\n",
       " '/System/Library/Fonts/ヒラギノ角ゴシック W7.ttc',\n",
       " '/System/Library/Fonts/Supplemental/NotoSansElbasan-Regular.ttf',\n",
       " '/System/Library/Fonts/Supplemental/NotoSansLinearB-Regular.ttf',\n",
       " '/System/Library/Fonts/ヒラギノ角ゴシック W3.ttc',\n",
       " '/System/Library/Fonts/Supplemental/Savoye LET.ttc',\n",
       " '/System/Library/Fonts/KohinoorGujarati.ttc',\n",
       " '/System/Library/Fonts/ヒラギノ角ゴシック W1.ttc',\n",
       " '/System/Library/Fonts/Supplemental/Trattatello.ttf',\n",
       " '/System/Library/Fonts/Optima.ttc',\n",
       " '/System/Library/Fonts/Supplemental/NotoSansTifinagh-Regular.ttf',\n",
       " '/System/Library/Fonts/Kohinoor.ttc',\n",
       " '/System/Library/Fonts/Supplemental/NotoSansSamaritan-Regular.ttf',\n",
       " '/System/Library/Fonts/Supplemental/NotoSansKaithi-Regular.ttf',\n",
       " '/System/Library/Fonts/Supplemental/NotoSansKhojki-Regular.ttf',\n",
       " '/System/Library/Fonts/HelveticaNeue.ttc',\n",
       " '/System/Library/Fonts/Noteworthy.ttc',\n",
       " '/System/Library/Fonts/SFNSMonoItalic.ttf',\n",
       " '/System/Library/Fonts/Supplemental/NotoSansLepcha-Regular.ttf',\n",
       " '/System/Library/Fonts/Supplemental/NotoSansTirhuta-Regular.ttf',\n",
       " '/System/Library/Fonts/Supplemental/Georgia Bold.ttf',\n",
       " '/System/Library/Fonts/Supplemental/NotoSansYi-Regular.ttf',\n",
       " '/System/Library/Fonts/Supplemental/Iowan Old Style.ttc',\n",
       " '/System/Library/Fonts/Supplemental/Georgia Italic.ttf',\n",
       " '/System/Library/Fonts/Supplemental/NotoSansMeroitic-Regular.ttf',\n",
       " '/System/Library/Fonts/NotoSansMyanmar.ttc',\n",
       " '/System/Library/Fonts/Supplemental/Myanmar MN.ttc',\n",
       " '/System/Library/Fonts/Supplemental/Kefa.ttc',\n",
       " '/System/Library/Fonts/Supplemental/NotoSansPalmyrene-Regular.ttf',\n",
       " '/System/Library/Fonts/Supplemental/STIXSizThreeSymBol.otf',\n",
       " '/System/Library/Fonts/Supplemental/NotoSansMongolian-Regular.ttf',\n",
       " '/System/Library/Fonts/Supplemental/Silom.ttf',\n",
       " '/System/Library/Fonts/Supplemental/SnellRoundhand.ttc',\n",
       " '/System/Library/Fonts/Supplemental/InaiMathi-MN.ttc',\n",
       " '/System/Library/Fonts/Supplemental/Songti.ttc',\n",
       " '/System/Library/Fonts/Supplemental/NotoSansRejang-Regular.ttf',\n",
       " '/System/Library/Fonts/Supplemental/STIXIntUpBol.otf',\n",
       " '/System/Library/Fonts/Supplemental/Ayuthaya.ttf',\n",
       " '/System/Library/Fonts/Apple Color Emoji.ttc',\n",
       " '/System/Library/Fonts/Supplemental/Comic Sans MS Bold.ttf',\n",
       " '/System/Library/Fonts/Supplemental/NotoSansInscriptionalPahlavi-Regular.ttf',\n",
       " '/System/Library/Fonts/ヒラギノ明朝 ProN.ttc',\n",
       " '/System/Library/Fonts/Supplemental/Mishafi Gold.ttf',\n",
       " '/System/Library/Fonts/Supplemental/Nadeem.ttc',\n",
       " '/System/Library/Fonts/Supplemental/NotoSansTagbanwa-Regular.ttf',\n",
       " '/System/Library/Fonts/Supplemental/Apple Chancery.ttf',\n",
       " '/System/Library/Fonts/KohinoorBangla.ttc',\n",
       " '/System/Library/Fonts/Supplemental/NotoSansOgham-Regular.ttf',\n",
       " '/System/Library/Fonts/ヒラギノ角ゴシック W0.ttc',\n",
       " '/System/Library/Fonts/Supplemental/Arial Black.ttf',\n",
       " '/System/Library/Fonts/Supplemental/PlantagenetCherokee.ttf',\n",
       " '/System/Library/Fonts/Supplemental/NotoSansOldNorthArabian-Regular.ttf',\n",
       " '/System/Library/Fonts/Supplemental/Bradley Hand Bold.ttf',\n",
       " '/System/Library/Fonts/Supplemental/Verdana.ttf',\n",
       " '/System/Library/Fonts/ヒラギノ角ゴシック W5.ttc',\n",
       " '/System/Library/Fonts/Supplemental/Devanagari Sangam MN.ttc',\n",
       " '/System/Library/Fonts/Supplemental/NotoSansManichaean-Regular.ttf',\n",
       " '/System/Library/Fonts/Supplemental/BigCaslon.ttf',\n",
       " '/System/Library/Fonts/Supplemental/Malayalam Sangam MN.ttc',\n",
       " '/System/Library/Fonts/MarkerFelt.ttc',\n",
       " '/System/Library/Fonts/Supplemental/Al Nile.ttc',\n",
       " '/System/Library/Fonts/Apple Braille Pinpoint 6 Dot.ttf',\n",
       " '/System/Library/Fonts/Supplemental/NotoSansLinearA-Regular.ttf',\n",
       " '/System/Library/Fonts/Supplemental/STIXIntDBol.otf',\n",
       " '/System/Library/Fonts/Supplemental/NotoSansOsage-Regular.ttf',\n",
       " '/System/Library/Fonts/Supplemental/Corsiva.ttc',\n",
       " '/System/Library/Fonts/Supplemental/NotoSansOldHungarian-Regular.ttf',\n",
       " '/System/Library/Fonts/Supplemental/DIN Alternate Bold.ttf',\n",
       " '/System/Library/Fonts/AquaKana.ttc',\n",
       " '/System/Library/Fonts/Supplemental/KufiStandardGK.ttc',\n",
       " '/System/Library/Fonts/Supplemental/STIXNonUniBolIta.otf',\n",
       " '/System/Library/Fonts/Supplemental/NotoSansAvestan-Regular.ttf',\n",
       " '/System/Library/Fonts/Supplemental/NotoSansSylotiNagri-Regular.ttf',\n",
       " '/System/Library/Fonts/Supplemental/Chalkduster.ttf',\n",
       " '/System/Library/Fonts/Supplemental/Sana.ttc',\n",
       " '/System/Library/Fonts/Supplemental/NotoSansSharada-Regular.ttf',\n",
       " '/System/Library/Fonts/Supplemental/NotoSansSiddham-Regular.ttf',\n",
       " '/System/Library/Fonts/Supplemental/Krungthep.ttf',\n",
       " '/System/Library/Fonts/Supplemental/Bodoni 72 Smallcaps Book.ttf',\n",
       " '/System/Library/Fonts/Supplemental/STIXGeneralBol.otf',\n",
       " '/System/Library/Fonts/Supplemental/STIXGeneralBolIta.otf',\n",
       " '/System/Library/Fonts/Supplemental/NotoSansSaurashtra-Regular.ttf',\n",
       " '/System/Library/Fonts/Hiragino Sans GB.ttc',\n",
       " '/System/Library/Fonts/Supplemental/EuphemiaCAS.ttc',\n",
       " '/System/Library/Fonts/Supplemental/STIXGeneralItalic.otf',\n",
       " '/System/Library/Fonts/Supplemental/Gujarati Sangam MN.ttc',\n",
       " '/System/Library/Fonts/Supplemental/Luminari.ttf',\n",
       " '/System/Library/Fonts/Supplemental/Microsoft Sans Serif.ttf',\n",
       " '/System/Library/Fonts/Supplemental/NotoSansMahajani-Regular.ttf',\n",
       " '/System/Library/Fonts/Supplemental/NotoSansImperialAramaic-Regular.ttf',\n",
       " '/System/Library/Fonts/Supplemental/NotoSansOlChiki-Regular.ttf',\n",
       " '/System/Library/Fonts/Supplemental/NotoSansCarian-Regular.ttf',\n",
       " '/System/Library/Fonts/Supplemental/Futura.ttc',\n",
       " '/System/Library/Fonts/Supplemental/STIXSizFourSymReg.otf',\n",
       " '/System/Library/Fonts/Supplemental/NotoSansBuhid-Regular.ttf',\n",
       " '/System/Library/Fonts/Supplemental/Myanmar Sangam MN.ttc',\n",
       " '/System/Library/Fonts/Supplemental/STIXGeneral.otf',\n",
       " '/System/Library/Fonts/Supplemental/NotoSansOldItalic-Regular.ttf',\n",
       " '/System/Library/Fonts/Supplemental/STIXVarBol.otf',\n",
       " '/System/Library/Fonts/Supplemental/Malayalam MN.ttc',\n",
       " '/System/Library/Fonts/Supplemental/NotoSansMarchen-Regular.ttf',\n",
       " '/System/Library/Fonts/Supplemental/NotoSansBuginese-Regular.ttf',\n",
       " '/System/Library/Fonts/Supplemental/Trebuchet MS.ttf',\n",
       " '/System/Library/Fonts/Supplemental/Sathu.ttf',\n",
       " '/System/Library/Fonts/LastResort.otf',\n",
       " '/System/Library/Fonts/Supplemental/ChalkboardSE.ttc',\n",
       " '/System/Library/Fonts/Supplemental/Phosphate.ttc',\n",
       " '/System/Library/Fonts/NewYork.ttf',\n",
       " '/System/Library/Fonts/Supplemental/Baskerville.ttc',\n",
       " '/System/Library/Fonts/Supplemental/STIXSizThreeSymReg.otf',\n",
       " '/System/Library/Fonts/Supplemental/Arial Narrow Bold.ttf',\n",
       " '/System/Library/Fonts/Supplemental/Times New Roman.ttf',\n",
       " '/System/Library/Fonts/Apple Braille Outline 8 Dot.ttf',\n",
       " '/System/Library/Fonts/STHeiti Light.ttc',\n",
       " '/System/Library/Fonts/Symbol.ttf',\n",
       " '/System/Library/Fonts/PingFang.ttc',\n",
       " '/System/Library/Fonts/Supplemental/Times New Roman Italic.ttf',\n",
       " '/System/Library/Fonts/Supplemental/Arial Italic.ttf',\n",
       " '/System/Library/Fonts/NotoSansKannada.ttc',\n",
       " '/System/Library/Fonts/Supplemental/NotoSansMultani-Regular.ttf',\n",
       " '/System/Library/Fonts/STHeiti Medium.ttc',\n",
       " '/System/Library/Fonts/Supplemental/DecoTypeNaskh.ttc',\n",
       " '/System/Library/Fonts/Supplemental/NotoSansSyriac-Regular.ttf',\n",
       " '/System/Library/Fonts/NotoSansOriya.ttc',\n",
       " '/System/Library/Fonts/Supplemental/Kannada MN.ttc',\n",
       " '/System/Library/Fonts/Supplemental/Didot.ttc',\n",
       " '/System/Library/Fonts/Supplemental/STIXSizFourSymBol.otf',\n",
       " '/System/Library/Fonts/Supplemental/Athelas.ttc',\n",
       " '/System/Library/Fonts/Supplemental/NotoSansPhagsPa-Regular.ttf',\n",
       " '/System/Library/Fonts/Supplemental/STIXNonUniBol.otf',\n",
       " '/System/Library/Fonts/Supplemental/NotoSansPauCinHau-Regular.ttf',\n",
       " '/System/Library/Fonts/Supplemental/Brush Script.ttf',\n",
       " '/System/Library/Fonts/Supplemental/NotoSansPhoenician-Regular.ttf',\n",
       " '/System/Library/Fonts/Supplemental/NotoSansBatak-Regular.ttf',\n",
       " '/System/Library/Fonts/Supplemental/NotoSansBamum-Regular.ttf',\n",
       " '/System/Library/Fonts/Supplemental/Rockwell.ttc',\n",
       " '/System/Library/Fonts/Supplemental/NotoSansShavian-Regular.ttf',\n",
       " '/System/Library/Fonts/Apple Braille Outline 6 Dot.ttf',\n",
       " '/System/Library/Fonts/Supplemental/PTSerif.ttc',\n",
       " '/System/Library/Fonts/Supplemental/NotoSansLimbu-Regular.ttf',\n",
       " '/System/Library/Fonts/Supplemental/Tahoma.ttf',\n",
       " '/System/Library/Fonts/Supplemental/NotoSansNewa-Regular.ttf',\n",
       " '/System/Library/Fonts/Supplemental/NotoSansOsmanya-Regular.ttf',\n",
       " '/System/Library/Fonts/Supplemental/NotoSansMeeteiMayek-Regular.ttf',\n",
       " '/System/Library/Fonts/Supplemental/Tahoma Bold.ttf',\n",
       " '/System/Library/Fonts/Supplemental/NotoSansOldSouthArabian-Regular.ttf',\n",
       " '/System/Library/Fonts/Supplemental/PTMono.ttc',\n",
       " '/System/Library/Fonts/ヒラギノ角ゴシック W4.ttc',\n",
       " '/System/Library/Fonts/Supplemental/STIXIntDReg.otf',\n",
       " '/System/Library/Fonts/Supplemental/NotoSansAdlam-Regular.ttf',\n",
       " '/System/Library/Fonts/Times.ttc',\n",
       " '/System/Library/Fonts/Supplemental/NotoSansOldPermic-Regular.ttf',\n",
       " '/System/Library/Fonts/Supplemental/Arial Narrow Bold Italic.ttf',\n",
       " '/System/Library/Fonts/Supplemental/NotoSansInscriptionalParthian-Regular.ttf',\n",
       " '/System/Library/Fonts/Supplemental/SignPainter.ttc',\n",
       " '/System/Library/Fonts/Supplemental/NotoSansHatran-Regular.ttf',\n",
       " '/System/Library/Fonts/Supplemental/Gurmukhi Sangam MN.ttc',\n",
       " '/System/Library/Fonts/Supplemental/Wingdings 3.ttf',\n",
       " '/System/Library/Fonts/Supplemental/Hoefler Text.ttc',\n",
       " '/System/Library/Fonts/Supplemental/Lao Sangam MN.ttf',\n",
       " '/System/Library/Fonts/Supplemental/NotoSansCham-Regular.ttf',\n",
       " '/System/Library/Fonts/Supplemental/SuperClarendon.ttc',\n",
       " '/System/Library/Fonts/SFCompactRounded.ttf',\n",
       " '/System/Library/Fonts/Supplemental/Courier New.ttf',\n",
       " '/System/Library/Fonts/Supplemental/NotoSansMiao-Regular.ttf',\n",
       " '/System/Library/Fonts/Supplemental/Papyrus.ttc',\n",
       " '/System/Library/Fonts/Supplemental/STIXIntSmReg.otf',\n",
       " '/System/Library/Fonts/NotoNastaliq.ttc',\n",
       " '/System/Library/Fonts/SFNSRounded.ttf',\n",
       " '/System/Library/Fonts/Supplemental/NotoSansLisu-Regular.ttf',\n",
       " '/System/Library/Fonts/LucidaGrande.ttc',\n",
       " '/System/Library/Fonts/Supplemental/NotoSansOldPersian-Regular.ttf',\n",
       " '/System/Library/Fonts/Supplemental/Marion.ttc',\n",
       " '/System/Library/Fonts/Supplemental/Bangla MN.ttc',\n",
       " '/System/Library/Fonts/Supplemental/Telugu Sangam MN.ttc',\n",
       " '/System/Library/Fonts/Supplemental/NewPeninimMT.ttc',\n",
       " '/System/Library/Fonts/Supplemental/Farah.ttc',\n",
       " '/System/Library/Fonts/Supplemental/Gurmukhi MN.ttc',\n",
       " '/System/Library/Fonts/Supplemental/Courier New Bold Italic.ttf',\n",
       " '/System/Library/Fonts/Supplemental/NotoSansBhaiksuki-Regular.ttf',\n",
       " '/System/Library/Fonts/Apple Symbols.ttf',\n",
       " '/System/Library/Fonts/Supplemental/Hoefler Text Ornaments.ttf',\n",
       " '/System/Library/Fonts/KohinoorTelugu.ttc',\n",
       " '/System/Library/Fonts/Supplemental/Gurmukhi.ttf',\n",
       " '/System/Library/Fonts/Supplemental/Trebuchet MS Italic.ttf',\n",
       " '/System/Library/Fonts/Supplemental/Arial Unicode.ttf',\n",
       " '/System/Library/Fonts/Supplemental/NotoSansThaana-Regular.ttf',\n",
       " '/System/Library/Fonts/Supplemental/Verdana Bold.ttf',\n",
       " '/System/Library/Fonts/Supplemental/NotoSansMandaic-Regular.ttf',\n",
       " '/System/Library/Fonts/Supplemental/NotoSansTakri-Regular.ttf',\n",
       " '/System/Library/Fonts/Supplemental/Times New Roman Bold Italic.ttf',\n",
       " '/System/Library/Fonts/Supplemental/Tamil Sangam MN.ttc',\n",
       " '/System/Library/Fonts/Supplemental/Arial Bold.ttf',\n",
       " '/System/Library/Fonts/Supplemental/NotoSansKayahLi-Regular.ttf',\n",
       " '/System/Library/Fonts/Palatino.ttc',\n",
       " '/System/Library/Fonts/Avenir.ttc',\n",
       " '/System/Library/Fonts/Supplemental/Oriya Sangam MN.ttc',\n",
       " '/System/Library/Fonts/Supplemental/Arial.ttf',\n",
       " '/System/Library/Fonts/Supplemental/Verdana Bold Italic.ttf',\n",
       " '/System/Library/Fonts/Supplemental/NotoSansWarangCiti-Regular.ttf',\n",
       " '/System/Library/Fonts/ZapfDingbats.ttf',\n",
       " '/System/Library/Fonts/Supplemental/NotoSansDuployan-Regular.ttf',\n",
       " '/System/Library/Fonts/Supplemental/Wingdings.ttf',\n",
       " '/System/Library/Fonts/Supplemental/STIXNonUniIta.otf',\n",
       " '/System/Library/Fonts/Supplemental/NotoSansMro-Regular.ttf',\n",
       " '/System/Library/Fonts/Supplemental/Charter.ttc',\n",
       " '/System/Library/Fonts/Supplemental/STIXIntUpReg.otf',\n",
       " '/System/Library/Fonts/Supplemental/Skia.ttf',\n",
       " '/System/Library/Fonts/Supplemental/NotoSansWancho-Regular.ttf',\n",
       " '/System/Library/Fonts/Avenir Next.ttc',\n",
       " '/System/Library/Fonts/ヒラギノ角ゴシック W6.ttc',\n",
       " '/System/Library/Fonts/Supplemental/NotoSansMendeKikakui-Regular.ttf',\n",
       " '/System/Library/Fonts/ヒラギノ角ゴシック W9.ttc',\n",
       " '/System/Library/Fonts/Supplemental/Arial Narrow Italic.ttf',\n",
       " '/System/Library/Fonts/Supplemental/Raanana.ttc',\n",
       " '/System/Library/Fonts/Supplemental/PTSerifCaption.ttc',\n",
       " '/System/Library/Fonts/Supplemental/Baghdad.ttc',\n",
       " '/System/Library/Fonts/Supplemental/STIXSizFiveSymReg.otf',\n",
       " '/System/Library/Fonts/Supplemental/NotoSansVai-Regular.ttf',\n",
       " '/System/Library/Fonts/Supplemental/NotoSansPahawhHmong-Regular.ttf',\n",
       " '/System/Library/Fonts/ヒラギノ丸ゴ ProN W4.ttc',\n",
       " '/System/Library/Fonts/Supplemental/Verdana Italic.ttf',\n",
       " '/System/Library/Fonts/Supplemental/NotoSansBassaVah-Regular.ttf',\n",
       " '/System/Library/Fonts/Supplemental/NotoSansChakma-Regular.ttf',\n",
       " '/System/Library/Fonts/Supplemental/Damascus.ttc',\n",
       " '/System/Library/Fonts/Supplemental/Galvji.ttc',\n",
       " '/System/Library/Fonts/Supplemental/STIXSizOneSymReg.otf']"
      ]
     },
     "execution_count": 18,
     "metadata": {},
     "output_type": "execute_result"
    }
   ],
   "source": [
    "font_list[:]"
   ]
  },
  {
   "cell_type": "code",
   "execution_count": 19,
   "id": "72867488",
   "metadata": {},
   "outputs": [],
   "source": [
    "import matplotlib\n",
    "matplotlib.rcParams['axes.unicode_minus'] = False\n",
    "matplotlib.rcParams['font.family'] = \"AppleGothic\"\n"
   ]
  },
  {
   "cell_type": "code",
   "execution_count": 20,
   "id": "91fe7a50",
   "metadata": {},
   "outputs": [
    {
     "data": {
      "text/plain": [
       "array([[5.1, 3.5, 1.4, 0.2],\n",
       "       [4.9, 3. , 1.4, 0.2]])"
      ]
     },
     "execution_count": 20,
     "metadata": {},
     "output_type": "execute_result"
    }
   ],
   "source": [
    "np.array([[5.1, 3.5, 1.4, 0.2], [4.9, 3.0, 1.4, 0.2]])"
   ]
  },
  {
   "cell_type": "code",
   "execution_count": 21,
   "id": "1bfe98f5",
   "metadata": {},
   "outputs": [],
   "source": [
    "from scipy import misc"
   ]
  },
  {
   "cell_type": "code",
   "execution_count": 22,
   "id": "310b90b2",
   "metadata": {},
   "outputs": [],
   "source": [
    "img_rgb = misc.face()"
   ]
  },
  {
   "cell_type": "code",
   "execution_count": 23,
   "id": "5dcf7ef2",
   "metadata": {},
   "outputs": [
    {
     "data": {
      "text/plain": [
       "(768, 1024, 3)"
      ]
     },
     "execution_count": 23,
     "metadata": {},
     "output_type": "execute_result"
    }
   ],
   "source": [
    "img_rgb.shape"
   ]
  },
  {
   "cell_type": "code",
   "execution_count": 24,
   "id": "51e71bee",
   "metadata": {},
   "outputs": [
    {
     "data": {
      "text/plain": [
       "array([[5, 3, 1, 0],\n",
       "       [1, 5, 4, 2]])"
      ]
     },
     "execution_count": 24,
     "metadata": {},
     "output_type": "execute_result"
    }
   ],
   "source": [
    "x1.T"
   ]
  },
  {
   "cell_type": "code",
   "execution_count": 25,
   "id": "08e4c406",
   "metadata": {},
   "outputs": [],
   "source": [
    "x3 =np.array([[1,2,3], [4,5,6], [7,8,9]])"
   ]
  },
  {
   "cell_type": "code",
   "execution_count": 26,
   "id": "9260cb76",
   "metadata": {},
   "outputs": [
    {
     "data": {
      "text/plain": [
       "array([[1, 2, 3],\n",
       "       [4, 5, 6],\n",
       "       [7, 8, 9]])"
      ]
     },
     "execution_count": 26,
     "metadata": {},
     "output_type": "execute_result"
    }
   ],
   "source": [
    "x3"
   ]
  },
  {
   "cell_type": "code",
   "execution_count": 27,
   "id": "51cb01b5",
   "metadata": {},
   "outputs": [
    {
     "data": {
      "text/plain": [
       "array([[1, 4, 7],\n",
       "       [2, 5, 8],\n",
       "       [3, 6, 9]])"
      ]
     },
     "execution_count": 27,
     "metadata": {},
     "output_type": "execute_result"
    }
   ],
   "source": [
    "x3.T"
   ]
  },
  {
   "cell_type": "code",
   "execution_count": 28,
   "id": "a5b6165e",
   "metadata": {},
   "outputs": [
    {
     "data": {
      "text/plain": [
       "array([[1, 2, 3],\n",
       "       [4, 5, 6],\n",
       "       [7, 8, 9]])"
      ]
     },
     "execution_count": 28,
     "metadata": {},
     "output_type": "execute_result"
    }
   ],
   "source": [
    "x3.T.T"
   ]
  },
  {
   "cell_type": "code",
   "execution_count": 29,
   "id": "d42f09b3",
   "metadata": {},
   "outputs": [
    {
     "data": {
      "text/plain": [
       "array([[1, 0, 0, 0],\n",
       "       [0, 2, 0, 0],\n",
       "       [0, 0, 3, 0],\n",
       "       [0, 0, 0, 4]])"
      ]
     },
     "execution_count": 29,
     "metadata": {},
     "output_type": "execute_result"
    }
   ],
   "source": [
    "np.diag([1,2,3,4])#대각행렬은 diag"
   ]
  },
  {
   "cell_type": "code",
   "execution_count": 30,
   "id": "1b8e8838",
   "metadata": {},
   "outputs": [
    {
     "data": {
      "text/plain": [
       "array([[1., 0., 0., 0.],\n",
       "       [0., 1., 0., 0.],\n",
       "       [0., 0., 1., 0.],\n",
       "       [0., 0., 0., 1.]])"
      ]
     },
     "execution_count": 30,
     "metadata": {},
     "output_type": "execute_result"
    }
   ],
   "source": [
    "np.identity(4)#항등행렬: 대각이 모두 1인 행렬"
   ]
  },
  {
   "cell_type": "code",
   "execution_count": 31,
   "id": "7322cc5e",
   "metadata": {},
   "outputs": [
    {
     "data": {
      "text/plain": [
       "array([[1., 0., 0., 0.],\n",
       "       [0., 1., 0., 0.],\n",
       "       [0., 0., 1., 0.],\n",
       "       [0., 0., 0., 1.]])"
      ]
     },
     "execution_count": 31,
     "metadata": {},
     "output_type": "execute_result"
    }
   ],
   "source": [
    "np.eye(4) #항등행렬: 대각이 모두 1인 행렬 "
   ]
  },
  {
   "cell_type": "code",
   "execution_count": 36,
   "id": "5fde367c",
   "metadata": {},
   "outputs": [],
   "source": [
    "a = np.array([[100],[80],[50]])"
   ]
  },
  {
   "cell_type": "code",
   "execution_count": 37,
   "id": "40c20d7d",
   "metadata": {},
   "outputs": [],
   "source": [
    "b = np.array([[3], [4], [5]])"
   ]
  },
  {
   "cell_type": "code",
   "execution_count": 38,
   "id": "e3259809",
   "metadata": {},
   "outputs": [
    {
     "data": {
      "text/plain": [
       "array([[870]])"
      ]
     },
     "execution_count": 38,
     "metadata": {},
     "output_type": "execute_result"
    }
   ],
   "source": [
    "np.dot(a.T, b)#a를 행벡터에서 열벡터로 바꾸고 b와 더하기"
   ]
  },
  {
   "cell_type": "code",
   "execution_count": 39,
   "id": "733d3248",
   "metadata": {},
   "outputs": [],
   "source": [
    "## 그 결과 나는 주식을 매수하기 위해서 870만원의 현금이 필요하다. "
   ]
  },
  {
   "cell_type": "markdown",
   "id": "309f9c56",
   "metadata": {},
   "source": [
    "<h1>코사인 유사도"
   ]
  },
  {
   "cell_type": "code",
   "execution_count": 40,
   "id": "db3e980f",
   "metadata": {},
   "outputs": [],
   "source": [
    "from sklearn.datasets import load_digits\n",
    "x = load_digits().data"
   ]
  },
  {
   "cell_type": "code",
   "execution_count": 42,
   "id": "03c3145b",
   "metadata": {},
   "outputs": [
    {
     "data": {
      "text/plain": [
       "array([[ 0.,  0.,  5., ...,  0.,  0.,  0.],\n",
       "       [ 0.,  0.,  0., ..., 10.,  0.,  0.],\n",
       "       [ 0.,  0.,  0., ..., 16.,  9.,  0.],\n",
       "       ...,\n",
       "       [ 0.,  0.,  1., ...,  6.,  0.,  0.],\n",
       "       [ 0.,  0.,  2., ..., 12.,  0.,  0.],\n",
       "       [ 0.,  0., 10., ..., 12.,  1.,  0.]])"
      ]
     },
     "execution_count": 42,
     "metadata": {},
     "output_type": "execute_result"
    }
   ],
   "source": [
    "x "
   ]
  },
  {
   "cell_type": "code",
   "execution_count": 47,
   "id": "a0e77845",
   "metadata": {},
   "outputs": [],
   "source": [
    "c = x[0,:]#첫번째 이미지 행만 출력.  열은 전부 출력되는 거고 "
   ]
  },
  {
   "cell_type": "code",
   "execution_count": 51,
   "id": "c8f59762",
   "metadata": {},
   "outputs": [],
   "source": [
    "d = x[9, :]"
   ]
  },
  {
   "cell_type": "code",
   "execution_count": 52,
   "id": "f288bbd6",
   "metadata": {},
   "outputs": [
    {
     "data": {
      "text/plain": [
       "array([ 0.,  0.,  5., 13.,  9.,  1.,  0.,  0.,  0.,  0., 13., 15., 10.,\n",
       "       15.,  5.,  0.,  0.,  3., 15.,  2.,  0., 11.,  8.,  0.,  0.,  4.,\n",
       "       12.,  0.,  0.,  8.,  8.,  0.,  0.,  5.,  8.,  0.,  0.,  9.,  8.,\n",
       "        0.,  0.,  4., 11.,  0.,  1., 12.,  7.,  0.,  0.,  2., 14.,  5.,\n",
       "       10., 12.,  0.,  0.,  0.,  0.,  6., 13., 10.,  0.,  0.,  0.])"
      ]
     },
     "execution_count": 52,
     "metadata": {},
     "output_type": "execute_result"
    }
   ],
   "source": [
    "c"
   ]
  },
  {
   "cell_type": "code",
   "execution_count": 53,
   "id": "1d9f139d",
   "metadata": {},
   "outputs": [
    {
     "data": {
      "text/plain": [
       "array([ 0.,  0., 11., 12.,  0.,  0.,  0.,  0.,  0.,  2., 16., 16., 16.,\n",
       "       13.,  0.,  0.,  0.,  3., 16., 12., 10., 14.,  0.,  0.,  0.,  1.,\n",
       "       16.,  1., 12., 15.,  0.,  0.,  0.,  0., 13., 16.,  9., 15.,  2.,\n",
       "        0.,  0.,  0.,  0.,  3.,  0.,  9., 11.,  0.,  0.,  0.,  0.,  0.,\n",
       "        9., 15.,  4.,  0.,  0.,  0.,  9., 12., 13.,  3.,  0.,  0.])"
      ]
     },
     "execution_count": 53,
     "metadata": {},
     "output_type": "execute_result"
    }
   ],
   "source": [
    "d"
   ]
  },
  {
   "cell_type": "code",
   "execution_count": 54,
   "id": "ffc452c5",
   "metadata": {},
   "outputs": [
    {
     "data": {
      "text/plain": [
       "2807.0"
      ]
     },
     "execution_count": 54,
     "metadata": {},
     "output_type": "execute_result"
    }
   ],
   "source": [
    "#이미지유사도 측정하기 위함\n",
    "np.dot(c.T, d)"
   ]
  },
  {
   "cell_type": "markdown",
   "id": "8569542d",
   "metadata": {},
   "source": [
    "<h1>행렬의 곱셉"
   ]
  },
  {
   "cell_type": "code",
   "execution_count": 57,
   "id": "f036e8f6",
   "metadata": {},
   "outputs": [],
   "source": [
    "k = np.array([[1,2,3], [4,5,6]])"
   ]
  },
  {
   "cell_type": "code",
   "execution_count": 58,
   "id": "fc707e61",
   "metadata": {},
   "outputs": [],
   "source": [
    "f = np.array([[1,2],[3,4],[5,6]])"
   ]
  },
  {
   "cell_type": "code",
   "execution_count": 59,
   "id": "b8b33133",
   "metadata": {},
   "outputs": [
    {
     "data": {
      "text/plain": [
       "array([[22, 28],\n",
       "       [49, 64]])"
      ]
     },
     "execution_count": 59,
     "metadata": {},
     "output_type": "execute_result"
    }
   ],
   "source": [
    "k@f"
   ]
  },
  {
   "cell_type": "code",
   "execution_count": 61,
   "id": "e1d2d782",
   "metadata": {},
   "outputs": [],
   "source": [
    "j = np.array([[1,2],[3,4], [5,6]])"
   ]
  },
  {
   "cell_type": "code",
   "execution_count": 62,
   "id": "535d2610",
   "metadata": {},
   "outputs": [
    {
     "data": {
      "text/plain": [
       "array([[35, 44],\n",
       "       [44, 56]])"
      ]
     },
     "execution_count": 62,
     "metadata": {},
     "output_type": "execute_result"
    }
   ],
   "source": [
    "j.T@j"
   ]
  },
  {
   "cell_type": "code",
   "execution_count": 63,
   "id": "12f95295",
   "metadata": {},
   "outputs": [
    {
     "data": {
      "text/plain": [
       "array([[ 5, 11, 17],\n",
       "       [11, 25, 39],\n",
       "       [17, 39, 61]])"
      ]
     },
     "execution_count": 63,
     "metadata": {},
     "output_type": "execute_result"
    }
   ],
   "source": [
    "j@j.T"
   ]
  },
  {
   "cell_type": "markdown",
   "id": "a1a907c7",
   "metadata": {},
   "source": [
    "<h1>행렬과 벡터의 곱"
   ]
  },
  {
   "cell_type": "code",
   "execution_count": 89,
   "id": "1abdac80",
   "metadata": {},
   "outputs": [],
   "source": [
    "n = np.array([[1,2,3],[4,5,6]])"
   ]
  },
  {
   "cell_type": "code",
   "execution_count": 67,
   "id": "014c9684",
   "metadata": {},
   "outputs": [],
   "source": [
    "w = np.array([[2],[3],[4]])"
   ]
  },
  {
   "cell_type": "code",
   "execution_count": 84,
   "id": "22062a89",
   "metadata": {},
   "outputs": [
    {
     "ename": "ValueError",
     "evalue": "matmul: Input operand 1 has a mismatch in its core dimension 0, with gufunc signature (n?,k),(k,m?)->(n?,m?) (size 3 is different from 2)",
     "output_type": "error",
     "traceback": [
      "\u001b[0;31m---------------------------------------------------------------------------\u001b[0m",
      "\u001b[0;31mValueError\u001b[0m                                Traceback (most recent call last)",
      "\u001b[0;32m/var/folders/ml/hp2njsqd1_18f100zl35ktqc0000gn/T/ipykernel_5249/1440686707.py\u001b[0m in \u001b[0;36m<module>\u001b[0;34m\u001b[0m\n\u001b[0;32m----> 1\u001b[0;31m \u001b[0mn\u001b[0m\u001b[0;34m[\u001b[0m\u001b[0;36m0\u001b[0m\u001b[0;34m]\u001b[0m\u001b[0;34m@\u001b[0m\u001b[0mw\u001b[0m\u001b[0;34m\u001b[0m\u001b[0;34m\u001b[0m\u001b[0m\n\u001b[0m",
      "\u001b[0;31mValueError\u001b[0m: matmul: Input operand 1 has a mismatch in its core dimension 0, with gufunc signature (n?,k),(k,m?)->(n?,m?) (size 3 is different from 2)"
     ]
    }
   ],
   "source": []
  },
  {
   "cell_type": "code",
   "execution_count": 87,
   "id": "9429e3d4",
   "metadata": {},
   "outputs": [
    {
     "data": {
      "text/plain": [
       "array([3, 4])"
      ]
     },
     "execution_count": 87,
     "metadata": {},
     "output_type": "execute_result"
    }
   ],
   "source": []
  },
  {
   "cell_type": "code",
   "execution_count": 80,
   "id": "76873fe2",
   "metadata": {},
   "outputs": [
    {
     "data": {
      "text/plain": [
       "array([20, 24])"
      ]
     },
     "execution_count": 80,
     "metadata": {},
     "output_type": "execute_result"
    }
   ],
   "source": [
    "n[2]*w[2]"
   ]
  },
  {
   "cell_type": "code",
   "execution_count": 1,
   "id": "a365d0e5",
   "metadata": {},
   "outputs": [
    {
     "ename": "SyntaxError",
     "evalue": "invalid syntax (2039282239.py, line 1)",
     "output_type": "error",
     "traceback": [
      "\u001b[0;36m  File \u001b[0;32m\"/var/folders/ml/hp2njsqd1_18f100zl35ktqc0000gn/T/ipykernel_7527/2039282239.py\"\u001b[0;36m, line \u001b[0;32m1\u001b[0m\n\u001b[0;31m    git remote add origin git@github.com:dhqm12/math.git\u001b[0m\n\u001b[0m        ^\u001b[0m\n\u001b[0;31mSyntaxError\u001b[0m\u001b[0;31m:\u001b[0m invalid syntax\n"
     ]
    }
   ],
   "source": [
    "git remote add origin git@github.com:dhqm12/math.git\n",
    "git branch -M main\n",
    "git push -u origin main"
   ]
  },
  {
   "cell_type": "code",
   "execution_count": null,
   "id": "7618dfce",
   "metadata": {},
   "outputs": [],
   "source": []
  }
 ],
 "metadata": {
  "kernelspec": {
   "display_name": "Python 3 (ipykernel)",
   "language": "python",
   "name": "python3"
  },
  "language_info": {
   "codemirror_mode": {
    "name": "ipython",
    "version": 3
   },
   "file_extension": ".py",
   "mimetype": "text/x-python",
   "name": "python",
   "nbconvert_exporter": "python",
   "pygments_lexer": "ipython3",
   "version": "3.9.7"
  }
 },
 "nbformat": 4,
 "nbformat_minor": 5
}
